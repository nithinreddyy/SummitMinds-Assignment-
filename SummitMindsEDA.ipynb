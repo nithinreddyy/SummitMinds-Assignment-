{
 "cells": [
  {
   "cell_type": "code",
   "execution_count": null,
   "metadata": {},
   "outputs": [],
   "source": [
    "import os\n",
    "import pandas as pd\n",
    "import numpy as np\n",
    "from fancyimpute import KNN\n",
    "import matplotlib.pyplot as plt\n",
    "from scipy.stats import chi2_contingency\n",
    "import seaborn as sns\n",
    "from random import randrange, uniform"
   ]
  },
  {
   "cell_type": "code",
   "execution_count": null,
   "metadata": {},
   "outputs": [],
   "source": [
    "os.chdir(\"D:/Downloads\")"
   ]
  },
  {
   "cell_type": "code",
   "execution_count": null,
   "metadata": {},
   "outputs": [],
   "source": [
    "Customers_data = pd.read_csv(\"D:/Downloads/customersdata1.csv\")"
   ]
  },
  {
   "cell_type": "code",
   "execution_count": null,
   "metadata": {},
   "outputs": [],
   "source": [
    "#Missing Value Analysis\n",
    "missing_val = pd.DataFrame(Customers_data.isnull().sum())\n",
    "missing_val = missing_val.reset_index()\n",
    "missing_val = missing_val.rename(columns = {'index': 'Variables', 0: 'Missing_percentage'})\n",
    "missing_val['Missing_percentage'] = (missing_val['Missing_percentage']/len(Customers_data))*100\n",
    "missing_val = missing_val.sort_values('Missing_percentage', ascending = False).reset_index(drop = True)\n",
    "missing_val.to_csv(\"Miising_perc.csv\", index = False)"
   ]
  },
  {
   "cell_type": "code",
   "execution_count": null,
   "metadata": {},
   "outputs": [],
   "source": [
    "#Missing Value Methods\n",
    "Customers_data[''] = Customers_data[''].fillna(Customers_data[''].mean())\n",
    "Customers_data[''] = marketing_train[''].fillna(Customers_data[''].median())"
   ]
  },
  {
   "cell_type": "code",
   "execution_count": null,
   "metadata": {},
   "outputs": [],
   "source": [
    "#Missing Value KNN Method\n",
    "lis = []\n",
    "for i in range(0, Customers_data.shape[1]):\n",
    "    #print(i)\n",
    "    if(Customers_data.iloc[:,i].dtypes == 'object'):\n",
    "        Customers_data.iloc[:,i] = pd.Categorical(Customers_data.iloc[:,i])\n",
    "        #print(Customers_data[[i]])\n",
    "        Customers_data.iloc[:,i] = Customers_data.iloc[:,i].cat.codes \n",
    "        Customers_data.iloc[:,i] = Customers_data.iloc[:,i].astype('object')\n",
    "        \n",
    "        lis.append(Customers_data.columns[i])\n",
    "        "
   ]
  },
  {
   "cell_type": "code",
   "execution_count": null,
   "metadata": {},
   "outputs": [],
   "source": [
    "#replace -1 with NA to impute\n",
    "for i in range(0, Customers_data.shape[1]):\n",
    "    Customers_data.iloc[:,i] = Customers_data.iloc[:,i].replace(-1, np.nan) "
   ]
  },
  {
   "cell_type": "code",
   "execution_count": null,
   "metadata": {},
   "outputs": [],
   "source": [
    "#Apply KNN imputation algorithm\n",
    "Customers_data = pd.DataFrame(KNN(k = 3).complete(Customers_data), columns = Customers_data.columns)"
   ]
  },
  {
   "cell_type": "code",
   "execution_count": null,
   "metadata": {},
   "outputs": [],
   "source": [
    "#Convert into proper datatypes\n",
    "for i in lis:\n",
    "    Customers_data.loc[:,i] = Customers_data.loc[:,i].round()\n",
    "    Customers_data.loc[:,i] = Customers_data.loc[:,i].astype('object')"
   ]
  },
  {
   "cell_type": "code",
   "execution_count": null,
   "metadata": {},
   "outputs": [],
   "source": [
    "#The next step includes outlier analysis where we will remove the data which is not synced to our data using median or KNN method.\n",
    "#After outlier analysis Feature Selection is done when we will take only the necessary data.\n",
    "#After Feature Selection Feature Scaling part is done where we will keep the data in one place.\n",
    "#We use sampling techniques to test the data.\n",
    "#After sampling model development is done.\n",
    "#After Model Development Cluster Analysis part is done which finds the similar data and keeps it one place.\n",
    "#Note - I wrote the above missing value code for understanding of my coding knowledge. Thank you."
   ]
  }
 ],
 "metadata": {
  "kernelspec": {
   "display_name": "Python 3",
   "language": "python",
   "name": "python3"
  },
  "language_info": {
   "codemirror_mode": {
    "name": "ipython",
    "version": 3
   },
   "file_extension": ".py",
   "mimetype": "text/x-python",
   "name": "python",
   "nbconvert_exporter": "python",
   "pygments_lexer": "ipython3",
   "version": "3.7.1"
  }
 },
 "nbformat": 4,
 "nbformat_minor": 2
}
